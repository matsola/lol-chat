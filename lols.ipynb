{
 "cells": [
  {
   "cell_type": "code",
   "execution_count": 47,
   "metadata": {},
   "outputs": [],
   "source": [
    "import openai\n",
    "import os\n",
    "from dotenv import load_dotenv\n",
    "load_dotenv()\n",
    "\n",
    "openai.api_key = os.getenv(\"OPENAI_API_KEY\")"
   ]
  },
  {
   "cell_type": "code",
   "execution_count": 52,
   "metadata": {},
   "outputs": [],
   "source": [
    "import json\n",
    "import random\n",
    "to_generate_from = []\n",
    "with open(\"message_1.json\") as fp:\n",
    "    chat_log = json.load(fp)\n",
    "    to_generate_from = random.sample(chat_log[\"messages\"], 90)\n",
    "# trim messages\n",
    "to_generate_from = [{\"sender\": mess[\"sender_name\"], \"message\": mess[\"content\"]} for mess in to_generate_from if \"content\" in mess]"
   ]
  },
  {
   "cell_type": "code",
   "execution_count": 54,
   "metadata": {},
   "outputs": [
    {
     "name": "stdout",
     "output_type": "stream",
     "text": [
      "Hej Oskar, det låter som om du har haft en tuff dag. Jag hoppas att du får lite tid för dig själv att återhämta dig och att du får det bättre snart.\n"
     ]
    }
   ],
   "source": [
    "task = \"snäll mot Oskar\"\n",
    "response = openai.Completion.create(\n",
    "  model=\"text-davinci-003\",\n",
    "  prompt=f\"\"\"\n",
    "  Här är en ganska lång chatlogg i jsonformat: {json.dumps(to_generate_from)}\n",
    "\n",
    "  Kan du generera ett meddelande i samma ton som är {task}? Högst 20 ord.\n",
    "  \"\"\",\n",
    "  temperature=0.3,\n",
    "  max_tokens=100,\n",
    "  top_p=1.0,\n",
    "  frequency_penalty=0.0,\n",
    "  presence_penalty=0.0\n",
    ")\n",
    "\n",
    "print(response[\"choices\"][0][\"text\"].strip())"
   ]
  }
 ],
 "metadata": {
  "kernelspec": {
   "display_name": "lol-chat-",
   "language": "python",
   "name": "python3"
  },
  "language_info": {
   "codemirror_mode": {
    "name": "ipython",
    "version": 3
   },
   "file_extension": ".py",
   "mimetype": "text/x-python",
   "name": "python",
   "nbconvert_exporter": "python",
   "pygments_lexer": "ipython3",
   "version": "3.9.15"
  },
  "orig_nbformat": 4,
  "vscode": {
   "interpreter": {
    "hash": "d0c46a5f7eb8eeda7502083894e32f61be206ee81a3184691c15d7ef130c4e58"
   }
  }
 },
 "nbformat": 4,
 "nbformat_minor": 2
}
